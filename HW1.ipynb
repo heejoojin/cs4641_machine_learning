{
 "cells": [
  {
   "cell_type": "markdown",
   "metadata": {
    "colab_type": "text",
    "id": "FFy6leD3ZmzS"
   },
   "source": [
    "# Fall 2019 CX4641/CS7641 Homework 1\n",
    "\n",
    "## Instructor: Dr. Mahdi Roozbahani\n",
    "\n",
    "## Deadline: Sep 12, Thursday, 11:59 pm\n",
    "\n",
    "* No unapproved extension of the deadline is allowed. Late submission will lead to 0 credit. \n",
    "\n",
    "* Discussion is encouraged, but each student must write his own answers and explicitly mention any collaborators."
   ]
  },
  {
   "cell_type": "markdown",
   "metadata": {
    "colab_type": "text",
    "id": "C2Dz3TFIZmzT"
   },
   "source": [
    "## Instructions for the assignment\n",
    "\n",
    "In this assignment, we only have writing questions: you are asked to answer them in the markdown cells.\n",
    "\n",
    "- Graduate students are required to complete all the questions including **bouns parts**. Undergraduate students are welcome to try bouns questions and we will add them on your final grade.\n",
    "\n",
    "- To switch between cell for code and for markdown, see the menu -> Cell -> Cell Type\n",
    "    \n",
    "- You could directly type the Latex equations in the markdown cell.\n",
    "\n",
    "- Typing with Latex is highly recommended. An image scan copy of handwritten also works. If you hand write, try to be clear as much as possible. No credit may be given to unreadable handwriting.\n",
    "    \n",
    "- If you want to add any picture to your answer, you could use this syntax $\"<img src=\"\" style=\"width: 300px;\"/>\"$ to include them within your ipython notebook."
   ]
  },
  {
   "cell_type": "markdown",
   "metadata": {
    "colab_type": "text",
    "id": "vurwpE07ZmzU"
   },
   "source": [
    "## 1 Linear Algebra (25pts + 8pts)"
   ]
  },
  {
   "cell_type": "markdown",
   "metadata": {
    "colab_type": "text",
    "id": "x6pSyvDOZmzU"
   },
   "source": [
    "### 1.1 Determinant and Inverse of Matrix [11pts]\n",
    "Given a matrix M:\n",
    "\n",
    "$$M = \\begin{bmatrix} \n",
    "  5 & 0 & 1 \\\\ \n",
    "  6 & 1 & 2 \\\\\n",
    "  0 & 4 & 3\n",
    "  \\end{bmatrix}\n",
    "$$\n",
    "\n",
    "- Calculate the determinant of M. [5pts]\n",
    "(Calculation process required)\n",
    "\n",
    "- Does the inverse of M exist? If so, calculate $M^{-1}$. [6pts]\n",
    "(Calculation process required)\n",
    "\n",
    "  (**Hint:** please double check your answer and make sure $M M^{-1} = I$)\n",
    "  \n",
    "### 1.2 Characteristic Equation [8pts] (BONUS)\n",
    "Consider the eigenvalue problem: \n",
    "  $$Ax =\\lambda x, x \\neq 0$$\n",
    "where $x$ is a non-zero eigenvector and $\\lambda$ is eigenvalue of $A$. Prove that the determinant $|A-\\lambda I|= 0$.\n",
    "\n",
    "(**Hint**: If a matrix is not full-rank (has linearly dependent columns), it is singular and non-invertible)\n",
    "\n",
    "\n",
    "### 1.3 Eigenvalue [7pts]\n",
    "Following 1.2, given a matrix $A$:\n",
    "   $$A = \n",
    "   \\begin{bmatrix} \n",
    "    1 & r \\\\ \n",
    "    r & 1 \n",
    "    \\end{bmatrix}$$ \n",
    "    \n",
    "Calculate all the eigenvalues of $A$. (Calculation process required. Your answer should be expressed as a function of $r$.)\n",
    "\n",
    "### 1.4 Eigenvector [7pts]\n",
    "Following 1.3, given that the $l_2$ norm of each eigenvector is 1, what are the eigenvectors of matrix $A$? For example, if an eigenvector is \n",
    "    ${v}=\\begin{bmatrix} \n",
    "    x1 \\\\ \n",
    "    x2 \n",
    "    \\end{bmatrix}$, then $||v||_2 = \\sqrt{x_1^2 + x_2^2} = 1$ (Calculation process required.)"
   ]
  },
  {
   "cell_type": "markdown",
   "metadata": {},
   "source": [
    "------------------------------------------------------------\n",
    "### 1.1 Determinant and Inverse of Matrix\n",
    "\n",
    "- Calculate the determinant of M. [5pts]\n",
    "\n",
    "(Calculation process required)\n",
    "$$det M \\begin{bmatrix}\n",
    "5 & 0 & 1 \\\\\n",
    "6 & 1 & 2 \\\\\n",
    "0 & 4 & 3\n",
    "\\end{bmatrix} = 5\\cdot det\n",
    "\\begin{bmatrix}\n",
    "1 & 2 \\\\\n",
    "4 & 3\n",
    "\\end{bmatrix} - 0\\cdot det\n",
    "\\begin{bmatrix}\n",
    "6 & 2 \\\\\n",
    "0 & 3\n",
    "\\end{bmatrix} + 1 \n",
    "\\cdot det\n",
    "\\begin{bmatrix}\n",
    "6 & 1 \\\\\n",
    "0 & 4\n",
    "\\end{bmatrix}\n",
    "= -1\n",
    "$$\n",
    "\n",
    "------------------------------------------------------------\n",
    "\n",
    "- Does the inverse of M exist? If so, calculate $M^{-1}$.\n",
    "\n",
    "\n",
    "$$M^{-1} = \\begin{bmatrix}\n",
    "5 & 0 & 1 \\\\\n",
    "6 & 1 & 2 \\\\\n",
    "0 & 4 & 3\n",
    "\\end{bmatrix}^{-1}\n",
    "=\n",
    "\\begin{bmatrix}\n",
    "5 & 0 & 1 & | & 1 & 0 & 0 \\\\\n",
    "6 & 1 & 2 & | & 0 & 1 & 0 \\\\\n",
    "0 & 4 & 3 & | & 0 & 0 & 1\n",
    "\\end{bmatrix}\n",
    "=\n",
    "\\begin{bmatrix}\n",
    "1 & 0 & 0 & | & 5 & -4 & 1 \\\\\n",
    "0 & 1 & 0 & | & 18 & -15 & 4 \\\\\n",
    "0 & 0 & 1 & | & -24 & 20 & -5\n",
    "\\end{bmatrix}\n",
    "=\n",
    "\\begin{bmatrix}\n",
    "5 & -4 & 1 \\\\\n",
    "18 & -15 & 4 \\\\\n",
    "-24 & 20 & -5\n",
    "\\end{bmatrix}\n",
    "$$\n",
    "\n",
    "The matrix M is invertable!\n",
    "\n",
    "------------------------------------------------------------\n"
   ]
  },
  {
   "cell_type": "code",
   "execution_count": 1,
   "metadata": {},
   "outputs": [
    {
     "data": {
      "text/plain": [
       "array([[  5.,  -4.,   1.],\n",
       "       [ 18., -15.,   4.],\n",
       "       [-24.,  20.,  -5.]])"
      ]
     },
     "execution_count": 1,
     "metadata": {},
     "output_type": "execute_result"
    }
   ],
   "source": [
    "import numpy as np\n",
    "import numpy.random as nprd\n",
    "import numpy.linalg as npla\n",
    "M = ([[5, 0, 1],[6, 1, 2],[0, 4, 3]])\n",
    "npla.inv(M)"
   ]
  },
  {
   "cell_type": "markdown",
   "metadata": {},
   "source": [
    "### 1.2 Characteristic Equation [8pts] (BONUS)\n",
    "\n",
    "$$ Ax = \\lambda x \\\\\n",
    "Ax - \\lambda x = 0\\\\\n",
    "Ax - \\lambda Ix = 0\\\\\n",
    "(A - \\lambda I) x = 0\n",
    "$$\n",
    "\n",
    "$$\\text{This proves that x is an eigenvector of A with the eigenvalue } \\lambda \\text{ if and only if A is not full-rank}\\\\\n",
    "\\text{ & there exsits values for x and} \\lambda \\text{for which (A - } \\lambda \\text{I)x = 0}$$"
   ]
  },
  {
   "cell_type": "markdown",
   "metadata": {},
   "source": [
    "### 1.3 Eigenvalue [7pts]\n",
    "\n",
    "$$\\mid\n",
    "A - \\lambda\n",
    "I\n",
    "\\mid\n",
    "= \n",
    "\\det(\n",
    "\\begin{bmatrix} \n",
    "1 & r \\\\ \n",
    "r & 1 \n",
    "\\end{bmatrix}-\n",
    "\\begin{bmatrix} \n",
    "\\lambda & 0 \\\\ \n",
    "0 & \\lambda\n",
    "\\end{bmatrix})\n",
    "= 0 = \n",
    "\\det(\\begin{bmatrix} \n",
    "1-\\lambda & r \\\\ \n",
    "r & 1-\\lambda\n",
    "\\end{bmatrix})\n",
    "=\n",
    "(1 - \\lambda)^{2}\n",
    "- r^{2} = 0\n",
    "$$\n",
    "\n",
    "\n",
    "$$\n",
    "((1 - \\lambda) - r)\\cdot((1 - \\lambda) + r) = 0\n",
    "\\\\\n",
    "\\\\\n",
    "((1 - \\lambda) - r) = 0, ((1 - \\lambda) + r) = 0\n",
    "\\\\\n",
    "\\\\\n",
    "\\lambda = 1 - r,\\lambda = 1 + r\n",
    "$$\n",
    "\n",
    "------------------------------------------------------------\n"
   ]
  },
  {
   "cell_type": "markdown",
   "metadata": {},
   "source": [
    "### 1.4 Eigenvector [7pts]\n",
    "\n",
    "$${v}=\\begin{bmatrix} \n",
    "    x_1 \\\\ \n",
    "    x_2\n",
    "    \\end{bmatrix}, then ||v||_2 = \\sqrt{x_1^2 + x_2^2} = 1$$\n",
    "\n",
    "$$(A-\\lambda I)v =\n",
    "\\Big(\n",
    "\\begin{bmatrix} \n",
    "1 & r \\\\ \n",
    "r & 1\n",
    "\\end{bmatrix}-\n",
    "\\begin{bmatrix} \n",
    "\\lambda & 0 \\\\ \n",
    "0 & \\lambda \n",
    "\\end{bmatrix}\n",
    "\\Big)\n",
    "\\begin{bmatrix} \n",
    "    x_1 \\\\ \n",
    "    x_2\n",
    "\\end{bmatrix}\n",
    "=\n",
    "\\begin{bmatrix} \n",
    "1-\\lambda & r \\\\ \n",
    "r & 1-\\lambda\n",
    "\\end{bmatrix}\n",
    "\\begin{bmatrix} \n",
    "    x_1 \\\\ \n",
    "    x_2\n",
    "\\end{bmatrix}\n",
    "= 0\n",
    "$$\n",
    "\n",
    "$$= \\begin{bmatrix}\n",
    "x_1(1-\\lambda) + rx_2 \\\\\n",
    "rx_1 + (1-\\lambda)x_2\n",
    "\\end{bmatrix} = 0\n",
    "\\\\\n",
    "x_1(1-\\lambda) + rx_2 = 0\n",
    "\\\\\n",
    "rx_1 + (1-\\lambda)x_2 = 0\n",
    "$$\n",
    "\n",
    "------------------------------------------------------------\n",
    "\n",
    "1) $\\lambda$ = 1 - r\n",
    "\n",
    "$\n",
    "x_1(1 - (1 - r)) + rx_2 = 0\n",
    "\\\\\n",
    "rx_1 + (1- (1 - r))x_2 = 0\n",
    "$\n",
    "\n",
    "$\n",
    "rx_1 + rx_2 = 0 \\\\\n",
    "r(x_1 + x_2) = 0 \\\\\n",
    "x_1 = -x_2 \\\\\n",
    "v = \\begin{bmatrix} \n",
    "    -x_2 \\\\ \n",
    "    x_2\n",
    "\\end{bmatrix}\\\\\n",
    "||v||_2 = \\sqrt{(-x_2)^2 + x_2^2} = \\sqrt{2x_2^2} = x_2\\sqrt{2} = 1\\\\\n",
    "x_2 = \\frac{1}{\\sqrt{2}} = \\frac{\\sqrt{2}}{2} \\\\\n",
    "v = \\begin{bmatrix} \n",
    "    - x_2 \\\\ \n",
    "     x_2\n",
    "\\end{bmatrix} = \\begin{bmatrix} \n",
    "    -\\frac{\\sqrt{2}}{2} \\\\\n",
    "    \\frac{\\sqrt{2}}{2}\n",
    "\\end{bmatrix}\n",
    "$\n",
    "\n",
    "------------------------------------------------------------\n",
    "\n",
    "2) $\\lambda$ = 1 + r\n",
    "\n",
    "$\n",
    "x_1(1 - (1 + r)) + rx_2 = 0\n",
    "rx_1 + (1 - (1 + r))x_2 = 0\n",
    "$\n",
    "\n",
    "$\n",
    "-rx_1 + rx_2 = 0 \\\\\n",
    "rx_1 - rx_2 = 0 \\\\\n",
    "-rx_1 + rx_2 = rx_1 - rx_2 \\\\\n",
    "2rx_1 = 2rx_2 \\\\\n",
    "x_1 = x_2 \\\\\n",
    "v = \\begin{bmatrix} \n",
    "    x_2 \\\\ \n",
    "    x_2\n",
    "\\end{bmatrix}\\\\\n",
    "||v||_2 = \\sqrt{x_2^2 + x_2^2} = \\sqrt{2x_2^2} = x_2\\sqrt{2} = 1\\\\\n",
    "x_2 = \\frac{1}{\\sqrt{2}} = \\frac{\\sqrt{2}}{2} \\\\\n",
    "v = \\begin{bmatrix} \n",
    "    x_2 \\\\ \n",
    "     x_2\n",
    "\\end{bmatrix} = \\begin{bmatrix} \n",
    "    \\frac{\\sqrt{2}}{2} \\\\\n",
    "    \\frac{\\sqrt{2}}{2}\n",
    "\\end{bmatrix}\n",
    "$\n",
    "\n",
    "------------------------------------------------------------\n"
   ]
  },
  {
   "cell_type": "markdown",
   "metadata": {
    "colab_type": "text",
    "id": "7D5eQGGiZmzV"
   },
   "source": [
    "## 2 Expectation, Co-variance and Independence [25pts + 5pts]"
   ]
  },
  {
   "cell_type": "markdown",
   "metadata": {
    "colab_type": "text",
    "id": "cMqPtRogZmzV"
   },
   "source": [
    "Suppose $X, Y$ and $Z$ are three different random variables.\n",
    "Let $X$ obeys Bernouli Distribution. The probability disbribution function is\n",
    "    $$p(x)=\\left\\{\n",
    "    \\begin{array}{c l}\t\n",
    "         0.5 & x = c\\\\\n",
    "         0.5 & x = -c.\n",
    "    \\end{array}\\right.$$\n",
    "    $c$ is a constant here.\n",
    "Let $Y$ obeys the standard Normal (Gaussian) distribution, which can be written as $Y \\sim N(0,1)$. $X$ and $Y$ are independent. Meanwhile, let $Z = XY$.\n",
    "\n",
    "- What is the Expectation and Variance of $X$? (in terms of $c$) [4pts]\n",
    "- Show that when $c=1$, $Z$ is a standard Normal (Gaussian) distribution, which means $Z \\sim N(0,1)$. [9pts]\n",
    "- How should we choose $c$ such that Y and Z are uncorrelated (which means $Cov(Y,Z) = 0$)? [9pts]\n",
    "- Are Y and Z independent? (Just clarify) [3pts]\n",
    "- Show your conclusion for the above question with an example. **(Bouns)** [5pts]"
   ]
  },
  {
   "cell_type": "markdown",
   "metadata": {},
   "source": [
    "------------------------------------------------------------\n",
    "## 2 Expectation, Co-variance and Independence \n",
    "\n",
    "- What is the Expectation and Variance of $X$? (in terms of $c$)\n",
    "$$E[X]=\\sum\n",
    "x\\cdot\n",
    "p(X=x)\n",
    "= 0.5c + (-0.5c) = 0$$\n",
    "\n",
    "\n",
    "$$Var[X] = E[X^2] - E[X]^2 = (0.5c^2 + 0.5(-c)^2) - 0^2 = c^2\n",
    "$$"
   ]
  },
  {
   "cell_type": "markdown",
   "metadata": {},
   "source": [
    "------------------------------------------------------------\n"
   ]
  },
  {
   "cell_type": "markdown",
   "metadata": {},
   "source": [
    "- Show that when $c=1$, $Z$ is a standard Normal (Gaussian) distribution, which means $Z \\sim N(0,1)$\n",
    "$\\text{}$\n",
    "\n",
    "$$c = 1$$\n",
    "$$p(x)=\\left\\{\n",
    "    \\begin{array}{c l}\t\n",
    "         0.5 & x = 1\\\\\n",
    "         0.5 & x = -1.\n",
    "    \\end{array}\\right.\\\\\n",
    "    E[X] = 0\\\\\n",
    "    Var[X] = c^2 = 1$$\n",
    "    \n",
    "    \n",
    "$$Y \\sim N(0,1)\\\\\n",
    "\\text{Y has a normal distribution, which means } \\mu= 0, \\sigma = 1, \\text{range of Y = }\n",
    "(-\\infty, \\infty)\\\\\n",
    "\\text{Then: } E[Y] = \\mu = 0\\\\\n",
    "Var[Y] = \\sigma^2 = 1^2 = 1$$\n",
    "\n",
    "\n",
    "$$Z = XY\\\\\n",
    "\\text{since X and Y are independent,}\\\\\n",
    "E[Z] = E[XY] = E[X] \\cdot E[Y] = 0 = \\mu\\\\\n",
    "Var[Z] = Var[XY] = Var[X] \\cdot Var[Y] = 1 = \\sigma^2$$\n",
    "\n",
    "$$\\therefore Z \\sim N(\\mu, \\sigma^2) = Z \\sim N(0,1)$$\n",
    "\n",
    "\n",
    "$$\\text{OR}$$\n",
    "\n",
    "$$c = 1$$\n",
    "\n",
    "$$P(Z) = P(Z|X=1) + P(Z|X=-1)\\\\\n",
    "= P(XY|X=1) \\cdot P(X=1) + P(XY|X=-1) \\cdot P(X=-1)\\\\\n",
    "= P(XY|X=1) \\cdot 0.5 + P(XY|X=-1) \\cdot 0.5\\\\\n",
    "= P(1\\cdot Y|X=1) \\cdot 0.5 + P(-1\\cdot Y|X=-1) \\cdot 0.5\\\\\n",
    "= P(Y|X=1) \\cdot 0.5 + P(-Y|X=-1) \\cdot 0.5\\\\\n",
    "= 0.5P(Y) + 0.5P(-Y) \\\\\n",
    "= 0.5P(Y) + 0.5P(Y)\n",
    "$$\n",
    "\n",
    "$$\\text{( P(Y) = P(-Y) because Y has a normal distribution )}$$\n",
    "\n",
    "$$\\therefore P(Z) = P(Y)\\\\\n",
    "Y \\sim N(0,1)\\\\\n",
    "Z \\sim N(0,1)$$"
   ]
  },
  {
   "cell_type": "markdown",
   "metadata": {},
   "source": [
    "- How should we choose $c$ such that Y and Z are uncorrelated (which means $Cov(Y,Z) = 0$)?\n",
    "\n",
    "$$Cov(Y, Z) = E[(Y - E[Y])(Z - E[Z])]\\\\\n",
    "= E[YZ] - E[Y]E[Z]\\\\ = E[Y \\cdot XY] - E[Y]E[XY]\\\\\n",
    "= E[XY^2] - E[X]E[Y]^2\\\\\n",
    "= E[XY^2] - 0 = 0$$\n",
    "\n",
    "$$E[XY^2] = E[X]E[Y^2] = 0 \\cdot E[Y^2] = 0$$\n",
    "\n",
    "$$( Var[Y] = \\sigma^2 = 1 = E[Y^2] - E[Y]^2\\\\\n",
    "E[Y^2] = 1 + E[Y]^2 = 1 + 0^2 = 1) $$\n",
    "\n",
    "$$\\therefore Cov(Y, Z) = 0\\\\\n",
    "\\text{Since E[X] is already zero (in terms of c), c can be any number.} $$\n",
    "\n",
    "------------------------------------------------------------\n"
   ]
  },
  {
   "cell_type": "markdown",
   "metadata": {},
   "source": [
    "- Are Y and Z independent? \n",
    "- Show your conclusion for the above question with an example.\n",
    "\n",
    "$$P(Y,Z) = P(Y)P(Z|Y)\\\\\n",
    "= P(Y, XY) = P(Y)P(XY|Y) \\neq P(Y)P(XY) \\neq P(Y)P(Z)$$\n",
    "\n",
    "$$\\therefore P(Y,Z) \\neq P(Y)P(Z) \\text{, which means Y and Z are NOT independent}$$\n",
    "\n",
    "\n",
    "------------------------------------------------------------"
   ]
  },
  {
   "cell_type": "markdown",
   "metadata": {
    "colab_type": "text",
    "id": "hHsbeDGNZmzX"
   },
   "source": [
    "## 3 Maximum Likelihood [25pts + 10pts]"
   ]
  },
  {
   "cell_type": "markdown",
   "metadata": {
    "colab_type": "text",
    "id": "QSEe9QB9ZmzY"
   },
   "source": [
    "### 3.1 Discrete Example [15pts]\n",
    "Suppose you are playing two unfair coins. The probability of tossing a head is $2 \\theta$ for coin 1, and $\\theta$ for coin 2. You toss each coin for several times, and you get the following results:\n",
    "\n",
    "| Coin No. | Result    |\n",
    "|------|------|\n",
    "|   1  | head |\n",
    "|   2  | head |\n",
    "|   1  | tail |\n",
    "|   2  | tail |\n",
    "|   1  | head |\n",
    "|   2  | tail |\n",
    "\n",
    "- What is the probability of tossing a tail for coin 1 ($p_{t1}$) and tossing a tail for coin 2 ($p_{t2}$) [3pts]? \n",
    "\n",
    "- What is the likelihood of the data given $\\theta$ [6pts]?\n",
    "\n",
    "- What is maximum likelihood estimation for $\\theta$ [6pts]?\n",
    "\n",
    "### 3.2 Continues Example [10pts] (BONUS)\n",
    "\n",
    "A uniform distribution in the range of $[a, b]$ is given by\n",
    "\n",
    "$$\n",
    "f(x)=\\left\\{\\begin{array}{ll}{\\frac{1}{b-a}} & {a \\leq x \\leq b} \\\\ {0} & {\\text { otherwise }}\\end{array}\\right.\n",
    "$$\n",
    "What is maximum likelihood estimation for $a$ and $b$?\n",
    "(You need to show the derivation of your answer.)\n",
    "\n",
    "( **Hint**: Think of two cases, where $x < max(x_1, x_2, ..., x_n)$ and $x \\ge max(x_1, x_2, ..., x_n).)$\n",
    "\n",
    "### 3.3 Maximum A Posteriori (MAP) [10pts]\n",
    "<img src = \"https://imgs.xkcd.com/comics/frequentists_vs_bayesians.png\" style=\"width:400px;height:600px\"/>\n",
    "\n",
    "(Reference: xkcd.com)\n",
    "\n",
    "Suppose there exists an unknown parameter $\\theta$ that describe whether the sun will explode tomorrow. $\\theta = 1$ means the sun will explode and $\\theta = 0$ if it won't. The likelihood function is:\n",
    "$$\n",
    "P(yes|\\theta)=\\left\\{\\begin{array}{ll}{1/36} & {\\theta = 0} \\\\ {35/36} & {\\theta = 1}\\end{array}\\right.\n",
    "$$\n",
    "- What is the maximum likelihood estimate of $\\theta$?[3pts]\n",
    "- Maximum A Posteriori (MAP) estimator aims to maximize the value of $\\theta$ in $p(\\theta|yes)$. What is the MAP estimate of $\\theta$ given that $P(\\theta=0)\\gg P(\\theta=1)$? Comment on the result.[7pts]\n",
    "\n",
    "( **Hint**: You can use Bayes Rule to get $p(\\theta|yes)$ from the likelihood! )\n",
    "\n",
    "To know more about MAP, refer to wiki page:\n",
    "https://en.wikipedia.org/wiki/Maximum_a_posteriori_estimation"
   ]
  },
  {
   "cell_type": "markdown",
   "metadata": {},
   "source": [
    "------------------------------------------------------------\n",
    "### 3.1 Discrete Example [15pts]\n",
    "\n",
    "- What is the probability of tossing a tail for coin 1 ($p_{t1}$) and tossing a tail for coin 2?\n",
    "\n",
    "$p_{t1} = 1 - 2\\theta$\n",
    "\n",
    "$p_{t2} = 1 - \\theta$\n",
    "\n",
    "------------------------------------------------------------\n",
    "\n",
    "- What is the likelihood of the data given $\\theta$?\n",
    "\n",
    "$L(\\theta) = (2\\theta)^2 \\cdot (1 - 2\\theta) \\cdot \\theta \\cdot (1 - \\theta)^2\\\\\n",
    "= -8\\theta^6 + 20\\theta^5 - 16\\theta^4 + 4\\theta^3$\n",
    "\n",
    "------------------------------------------------------------\n",
    "\n",
    "- What is maximum likelihood estimation for $\\theta$?\n",
    "\n",
    "$\n",
    "L'(\\theta) = -48\\theta^5 + 100\\theta^4 - 64\\theta^3 + 12\\theta^2 = 0\\\\\n",
    "L'(\\theta) = -4\\theta^2(\\theta-1)(3\\theta-1)(4\\theta-3) = 0$\n",
    "\n",
    "$\\theta = 0, \\theta = 1, \\theta = \\frac{1}{3}, \\theta = \\frac{3}{4}$\n",
    "\n",
    "- $\\theta$ = 1 or $\\theta$ = $\\frac{3}{4}$\n",
    ", then $p_{t1} = 1 - 2\\theta$ < 0 \n",
    "\n",
    "- $\\theta$ = 0\n",
    ", then the probability of tossing a head for either coin is 0\n",
    "\n",
    "$$\\therefore \\theta = \\frac{1}{3}$$\n",
    "\n",
    "------------------------------------------------------------"
   ]
  },
  {
   "cell_type": "markdown",
   "metadata": {},
   "source": [
    "### 3.2 Continues Example [10pts] (BONUS)\n",
    "\n",
    "\n",
    "$\n",
    "a = argmin(a \\leq x \\leq b)\\\\\n",
    "b = argmax(a \\leq x \\leq b)\n",
    "$\n",
    "\n",
    "------------------------------------------------------------"
   ]
  },
  {
   "cell_type": "markdown",
   "metadata": {},
   "source": [
    "### 3.3 Maximum A Posteriori (MAP)\n",
    "\n",
    "- What is the maximum likelihood estimate of $\\theta$?\n",
    "\n",
    "$$ \\theta = 1 $$\n",
    "\n",
    "$\\text{This is because when } \\theta = 1, \\text {the probability is much greater } \\big(P(yes|\\theta=1) = \\frac{35}{36}\\big) \\text{ than the probability when } \\theta = 0 \\big(P(yes|\\theta=0) = \\frac{1}{36}\\big)\\\\\n",
    "\\text{Thus, the maximum likelihood estimate of } \\theta \\text{ has to be 1.}\n",
    "$\n",
    "\n",
    "------------------------------------------------------------\n",
    "\n",
    "- Maximum A Posteriori (MAP) estimator aims to maximize the value of $\\theta$ in $p(\\theta|yes)$. What is the MAP estimate of $\\theta$ given that $P(\\theta=0)\\gg P(\\theta=1)$? Comment on the result.\n",
    "\n",
    "$$ P(\\theta | yes) = \\frac{P(\\theta, yes)}{P(yes)}\n",
    "= \\frac{P(yes|\\theta) \\cdot P(\\theta)}{P(yes)}\n",
    "$$\n",
    "\n",
    "$P(yes)$ doesn't change so the dominator stays constant for both $\\theta = 1, \\theta = 0.$\n",
    "\n",
    "Given Bayes Rule, since $P(\\theta=0)\\gg P(\\theta=1)$, $P(yes|\\theta)$ becomes insignificant, therefore, we only need to consider $P(\\theta)$\n",
    "\n",
    "Therefore, the MAP estimate of $\\theta$ has to be 0 since $P(\\theta=0)\\gg P(\\theta=1)$.\n",
    "\n",
    "\n",
    "------------------------------------------------------------\n"
   ]
  },
  {
   "cell_type": "markdown",
   "metadata": {
    "colab_type": "text",
    "id": "Ym8gpKMHZmzY"
   },
   "source": [
    "## 4 Information Theory [25pts + 7pts]"
   ]
  },
  {
   "cell_type": "markdown",
   "metadata": {
    "colab_type": "text",
    "id": "3HSWti__DYx9"
   },
   "source": [
    "### 4.1 Marginal Distribution [4pts]\n",
    "Suppose the joint probability distribution of two binary random variables $X$ and $Y$ are given as follows.\n",
    "$$\n",
    "\\begin{array}{|c|c|c|}\\hline X | Y & {1} & {2} \\\\ \\hline 0 & {\\frac{1}{5}} & {\\frac{2}{5}} \\\\ \\hline 1 & {0} & \\frac{2}{5} \\\\ \\hline\\end{array}\n",
    "$$\n",
    "\n",
    "- Show the marginal distribution of $X$ and $Y$, respectively. [4pts]\n",
    "\n",
    "    \n",
    "### 4.2 Mutual Information and Entropy [21pts]\n",
    "Given a dataset as below.\n",
    "$$\n",
    "\\begin{array}{|c|c|c|c|c|c|}\\hline Day & Outlook & Temperature & Humidity & Wind & Play? \\\\ \\hline 1 & overcast & hot & normal & medium & yes \\\\ \\hline 2 & sunny & hot & high & weak & no \\\\ \\hline 3 & sunny & mild & normal & weak & yes \\\\ \\hline 4 & rain & cool & high & strong & no \\\\ \\hline 5 & overcast & cool & normal & strong & yes \\\\ \\hline 6 & rain & mild & normal & medium & no \\\\ \\hline 7 & sunny & mild & high & medium & yes\\\\ \\hline 8 & overcast & hot & normal & strong & no\\\\ \\hline 9 & rain & hot & high & weak & no\\\\ \\hline 10 & sunny & cool & normal & strong & yes\\\\\\hline\\end{array}\n",
    "$$\n",
    "\n",
    "We want to decide whether to play or not to play basketball on a certain day. Each input has four features ($x_1$, $x_2$, $x_3$, $x_4$): Outlook, Temperature, Humidity, Wind. The decision (play vs no-play) is represented as $Y$.\n",
    "\n",
    "- Find entropy $H(Y)$. [4pts]\n",
    "\n",
    "  \n",
    "  \n",
    "- Find conditional entropy $H(Y|x_1)$, $H(Y|x_4)$, respectively. [8pts]\n",
    "  \n",
    "  \n",
    "  \n",
    "- Find mutual information $I(x_1, Y)$ and $I(x_4, Y)$ and determine whether which one ($x_1$ or $x_4$) is more informative. [5pts]\n",
    "\n",
    "\n",
    "\n",
    "- Find joint entropy $H(Y, x_3)$. [4pts]\n",
    "  \n",
    "  \n",
    "### 4.3 Bonus Question [7pts]\n",
    "- Suppose $X$ and $Y$ are independent. Show that $H(X|Y) = H(X)$. [2pts]\n",
    "\n",
    "\n",
    "- Suppose $X$ and $Y$ are independent. Show that $H(X,Y) = H(X) + H(Y)$. [2pts]\n",
    "\n",
    "\n",
    "  \n",
    "- Prove that the mutual information is symmetric, i.e., $I(X, Y) = I(Y, X)$ and $x_i \\in X, y_i \\in Y$ [3pts]\n",
    "\n",
    "\n"
   ]
  },
  {
   "cell_type": "markdown",
   "metadata": {},
   "source": [
    "### 4.1 Marginal Distribution\n",
    "------------------------------------------------------------\n",
    "\n",
    "- Show the marginal distribution of $X$ and $Y$, respectively.\n",
    "\n",
    "$P(X = 0) = 1/5 + 2/5 = 3/5\\\\\n",
    "P(X = 1) = 0 + 2/5 = 2/5\\\\\n",
    "P(Y = 1) = 1/5 + 0 = 1/5\\\\\n",
    "P(Y = 2) = 2/5 + 2/5 = 4/5$\n",
    "\n",
    "------------------------------------------------------------\n"
   ]
  },
  {
   "cell_type": "markdown",
   "metadata": {},
   "source": [
    "## 4.2 Mutual Information and Entropy [21pts]"
   ]
  },
  {
   "cell_type": "markdown",
   "metadata": {},
   "source": [
    "- Find entropy $H(Y)$\n",
    "\n",
    "$$H(Y) = -\\sum_{n=1}^{n} P(y = n)log_2P(y = n)\\\\\n",
    "p(y=yes) = 5/10 = 1/2\\\\\n",
    "p(y=no) = 5/10 = 1/2\\\\\n",
    "Entropy = -0.5log_20.5 + (-0.5log_20.5) = -1\\cdot log0.5 = 1$$\n",
    "\n",
    "------------------------------------------------------------"
   ]
  },
  {
   "cell_type": "code",
   "execution_count": 14,
   "metadata": {},
   "outputs": [
    {
     "data": {
      "text/plain": [
       "1.0"
      ]
     },
     "execution_count": 14,
     "metadata": {},
     "output_type": "execute_result"
    }
   ],
   "source": [
    "import math\n",
    "-math.log2(0.5)"
   ]
  },
  {
   "cell_type": "markdown",
   "metadata": {},
   "source": [
    "- Find conditional entropy $H(Y|x_1)$, $H(Y|x_4)$, respectively.\n"
   ]
  },
  {
   "cell_type": "markdown",
   "metadata": {},
   "source": [
    "### Specific Conditional Entropy $(X_1)$\n",
    "\n",
    "$$H(Y|x_1=overcast) = -P(Y=yes|x_1=overcast)log_2P(Y=yes|x_1=overcast) -P(Y=no|x_1=overcast)log_2(Y=no|x_1=overcast)\\\\\n",
    "= -(2/3 \\cdot log_2(2/3)) - (1/3 \\cdot log_2(1/3))\\\\\n",
    "= 0.9182958340544896\n",
    "$$\n",
    "\n",
    "$$H(Y|x_1=sunny)\\\\\n",
    "= -(3/4 \\cdot log_2(3/4)) - (1/4 \\cdot log_2(1/4))\\\\\n",
    "= 0.8112781244591328\n",
    "$$\n",
    "\n",
    "$$\n",
    "H(Y|x_1=rain)\\\\\n",
    "= -(0 \\cdot log_2(0)) - (1 \\cdot log_2(1))\\\\\n",
    "= 0\n",
    "$$\n",
    "\n",
    "### Conditional Entropy $(X_1)$\n",
    "\n",
    "$$\n",
    "\\begin{array}{|c|c|c|c|}\\hline & {Yes} & {No} & {} \\\\ \\hline overcast & {\\frac{2}{10}} & {\\frac{1}{10}} & P(x_1=overcast) = 0.3\\\\ \\hline sunny & \\frac{3}{10} & \\frac{1}{10} & P(x_1=sunny) = 0.4 \\\\ \n",
    "\\hline rain & {0} & \\frac{3}{10} & P(x_1=rain) = 0.3 \\\\ \n",
    "\\hline {} & P(Y=yes) = 0.5 & P(Y=no) = 0.5 &  \\\\ \n",
    "\\hline\\end{array}\n",
    "$$\n",
    "\n",
    "\n",
    "$$H(Y|x_1) = 0.3 * 0.9182958340544896 + 0.4 * 0.8112781244591328 + 0.3 * 0\\\\ = 0.6$$\n",
    "\n",
    "------------------------------------------------------------"
   ]
  },
  {
   "cell_type": "markdown",
   "metadata": {},
   "source": [
    "### Specific Conditional Entropy $(X_4)$\n",
    "\n",
    "$$H(Y|x_4=weak) = -P(Y=yes|x_4=weak)log_2P(Y=yes|x_4=weak) -P(Y=no|x_4=weak)log_2(Y=no|x_4=weak)\\\\\n",
    "= -(2/3 \\cdot log_2(2/3)) - (1/3 \\cdot log_2(1/3))\\\\\n",
    "= 0.9182958340544896\n",
    "$$\n",
    "\n",
    "$$H(Y|x_4=medium)\\\\\n",
    "= -(1/3 \\cdot log_2(1/3)) - (2/3 \\cdot log_2(2/3))\\\\\n",
    "= 0.9182958340544896\n",
    "$$\n",
    "\n",
    "$$\n",
    "H(Y|x_4=strong)\\\\\n",
    "= -(2/4 \\cdot log_2(2/4)) - (2/4 \\cdot log_2(2/4))\\\\\n",
    "= 1\n",
    "$$\n",
    "\n",
    "\n",
    "### Conditional Entropy $(X_4)$\n",
    "\n",
    "$$\n",
    "\\begin{array}{|c|c|c|c|}\\hline & {Yes} & {No} & {} \\\\ \\hline medium & {\\frac{2}{10}} & {\\frac{1}{10}} & P(x_4=medium) = 0.3\\\\ \\hline weak & \\frac{1}{10} & \\frac{2}{10} & P(x_4=weak) = 0.3 \\\\ \n",
    "\\hline strong & \\frac{2}{10} & \\frac{2}{10} & P(x_4=strong) = 0.4 \\\\ \n",
    "\\hline {} & P(Y=yes) = 0.5 & P(Y=no) = 0.5 &  \\\\ \n",
    "\\hline\\end{array}\n",
    "$$\n",
    "\n",
    "\n",
    "$$H(Y|x_4) = 0.3 * 0.9182958340544896 + 0.3 * 0.9182958340544896 + 0.4 * 1\\\\ = 0.9509775004326937$$\n",
    "\n",
    "------------------------------------------------------------\n"
   ]
  },
  {
   "cell_type": "code",
   "execution_count": 10,
   "metadata": {},
   "outputs": [
    {
     "data": {
      "text/plain": [
       "0.9182958340544896"
      ]
     },
     "execution_count": 10,
     "metadata": {},
     "output_type": "execute_result"
    }
   ],
   "source": [
    "import math\n",
    "-((2/3) * math.log2(2/3)) -(1/3 * math.log2(1/3))"
   ]
  },
  {
   "cell_type": "code",
   "execution_count": 12,
   "metadata": {},
   "outputs": [
    {
     "data": {
      "text/plain": [
       "0.8112781244591328"
      ]
     },
     "execution_count": 12,
     "metadata": {},
     "output_type": "execute_result"
    }
   ],
   "source": [
    "-((3/4)* math.log2(3/4)) - ((1/4) * math.log2(1/4))"
   ]
  },
  {
   "cell_type": "code",
   "execution_count": 16,
   "metadata": {},
   "outputs": [
    {
     "data": {
      "text/plain": [
       "1.0"
      ]
     },
     "execution_count": 16,
     "metadata": {},
     "output_type": "execute_result"
    }
   ],
   "source": [
    "-(0.5* math.log2(0.5)) - (0.5 * math.log2(0.5))"
   ]
  },
  {
   "cell_type": "code",
   "execution_count": 13,
   "metadata": {},
   "outputs": [
    {
     "data": {
      "text/plain": [
       "0.6"
      ]
     },
     "execution_count": 13,
     "metadata": {},
     "output_type": "execute_result"
    }
   ],
   "source": [
    "0.3 * 0.9182958340544896 + 0.4 * 0.8112781244591328 + 0.3 * 0"
   ]
  },
  {
   "cell_type": "code",
   "execution_count": 15,
   "metadata": {},
   "outputs": [
    {
     "data": {
      "text/plain": [
       "0.9509775004326937"
      ]
     },
     "execution_count": 15,
     "metadata": {},
     "output_type": "execute_result"
    }
   ],
   "source": [
    "0.3 * 0.9182958340544896 + 0.3 * 0.9182958340544896 + 0.4 * 1"
   ]
  },
  {
   "cell_type": "markdown",
   "metadata": {},
   "source": [
    "- Find mutual information $I(x_1, Y)$ and $I(x_4, Y)$ and determine whether which one ($x_1$ or $x_4$) is more informative.\n",
    "\n",
    "\n",
    "$$I(X,Y)\\\\\n",
    "= H(Y) - H(Y|X)$$\n",
    "$$H(X) = -\\sum_{n=1}^{n} P(x = n)log_2P(x = n)$$\n",
    "\n",
    "$$(P(x_1=overcast) = 0.3\\\\ P(x_1=sunny) = 0.4\\\\ P(x_1=rain) = 0.3)$$\n",
    "\n",
    "$$(P(x_4=medium) = 0.3\\\\ P(x_4=weak) = 0.3\\\\ P(x_4=strong) = 0.4)$$\n",
    "\n",
    "$$H(X=x_1) = - 0.3log_2(0.3) - 0.4log_2(0.4) - 0.3log_2(0.3) = 1.5709505944546684$$\n",
    "\n",
    "$$H(X=x_4) = - 0.3log_2(0.3) - 0.3log_2(0.3) - 0.4log_2(0.4) = 1.5709505944546684$$\n",
    "\n",
    "$$I(x_1, Y) = H(Y) - H(Y|x_1) = 1 - 0.6 = 0.4\\\\\n",
    "I(x_4, Y) = H(Y) - H(Y|x_4) = 1 - 0.9509775004326937 = 0.049022499567306976$$\n",
    "\n",
    "$$\\therefore I(x_1, Y) > I(x_4, Y)\\\\\n",
    "I(x_1, Y) \\text{ is more informative}$$"
   ]
  },
  {
   "cell_type": "code",
   "execution_count": 7,
   "metadata": {},
   "outputs": [
    {
     "data": {
      "text/plain": [
       "1.5709505944546684"
      ]
     },
     "execution_count": 7,
     "metadata": {},
     "output_type": "execute_result"
    }
   ],
   "source": [
    "- 0.3*math.log2(0.3) - 0.4*math.log2(0.4) - 0.3*math.log2(0.3)"
   ]
  },
  {
   "cell_type": "code",
   "execution_count": 23,
   "metadata": {},
   "outputs": [
    {
     "data": {
      "text/plain": [
       "0.4"
      ]
     },
     "execution_count": 23,
     "metadata": {},
     "output_type": "execute_result"
    }
   ],
   "source": [
    "1 - 0.6"
   ]
  },
  {
   "cell_type": "code",
   "execution_count": 22,
   "metadata": {},
   "outputs": [
    {
     "data": {
      "text/plain": [
       "0.049022499567306976"
      ]
     },
     "execution_count": 22,
     "metadata": {},
     "output_type": "execute_result"
    }
   ],
   "source": [
    "1 - 0.950977500432693"
   ]
  },
  {
   "cell_type": "markdown",
   "metadata": {},
   "source": [
    "- Find joint entropy $H(Y, x_3)$.\n",
    "\n",
    "$$H(Y, x_3) = H(Y) + H(Y|x_3)$$\n",
    "\n",
    "### Specific Conditional Entropy $(X_3)$\n",
    "\n",
    "$$H(Y|x_3=normal) = -P(Y=yes|x_3=normal)log_2P(Y=yes|x_3=normal) -P(Y=no|x_3=normal)log_2(Y=no|x_3=normal)\\\\\n",
    "= -(4/6\\cdot log_2(4/6)) - (2/6\\cdot log_2(2/6))\\\\\n",
    "= 0.9182958340544896\n",
    "$$\n",
    "\n",
    "$$H(Y|x_3=high)\\\\\n",
    "= -(1/4 \\cdot log_2(1/4)) - (3/4 \\cdot log_2(3/4))\\\\\n",
    "= 0.8112781244591328\n",
    "$$\n",
    "\n",
    "\n",
    "### Conditional Entropy $(X_3)$\n",
    "\n",
    "$$\n",
    "\\begin{array}{|c|c|c|c|}\\hline & {Yes} & {No} & {} \\\\ \\hline normal & {\\frac{4}{10}} & {\\frac{2}{10}} & P(x_3=normal) = 0.6\\\\ \\hline high & \\frac{1}{10} & \\frac{3}{10} & P(x_3=high) = 0.4 \\\\ \n",
    "\\hline {} & P(Y=yes) = 0.5 & P(Y=no) = 0.5 &  \\\\ \n",
    "\\hline\\end{array}\n",
    "$$\n",
    "\n",
    "$$H(Y|x_3) = 0.6 * 0.9182958340544896 + 0.4 * 0.8112781244591328\\\\ = 0.8754887502163469$$\n",
    "\n",
    "$$\\therefore H(Y, x_3) = H(Y) + H(Y|x_3) = 1 + 0.8754887502163469\\\\\n",
    "= 1.8754887502163469$$\n",
    "\n",
    "------------------------------------------------------------"
   ]
  },
  {
   "cell_type": "code",
   "execution_count": 19,
   "metadata": {},
   "outputs": [
    {
     "data": {
      "text/plain": [
       "0.9182958340544896"
      ]
     },
     "execution_count": 19,
     "metadata": {},
     "output_type": "execute_result"
    }
   ],
   "source": [
    "-(4/6 * math.log2(4/6)) - (2/6 * math.log2(2/6))"
   ]
  },
  {
   "cell_type": "code",
   "execution_count": 20,
   "metadata": {},
   "outputs": [
    {
     "data": {
      "text/plain": [
       "0.8112781244591328"
      ]
     },
     "execution_count": 20,
     "metadata": {},
     "output_type": "execute_result"
    }
   ],
   "source": [
    "-(1/4 * math.log2(1/4)) - (3/4 * math.log2(3/4))"
   ]
  },
  {
   "cell_type": "code",
   "execution_count": 21,
   "metadata": {},
   "outputs": [
    {
     "data": {
      "text/plain": [
       "0.8754887502163469"
      ]
     },
     "execution_count": 21,
     "metadata": {},
     "output_type": "execute_result"
    }
   ],
   "source": [
    "0.6 * 0.9182958340544896 + 0.4 * 0.8112781244591328"
   ]
  },
  {
   "cell_type": "markdown",
   "metadata": {},
   "source": [
    "### 4.3 Bonus Question [7pts]"
   ]
  },
  {
   "cell_type": "markdown",
   "metadata": {},
   "source": [
    "- Suppose $X$ and $Y$ are independent. Show that $H(X,Y) = H(X) + H(Y)$.\n",
    "\n",
    "$$H(X,Y) = H(X) + H(Y|X) = H(X) + H(Y)$$\n",
    "\n",
    "$$\\big(\\text{If X and Y are independent, } H(Y|X) = H(Y) \\text{ from 4.3.1}\\big)$$\n",
    "\n",
    "\n",
    "------------------------------------------------------------"
   ]
  },
  {
   "cell_type": "markdown",
   "metadata": {},
   "source": [
    "- Prove that the mutual information is symmetric, i.e., $I(X, Y) = I(Y, X)$ and $x_i \\in X, y_i \\in Y$\n",
    "\n",
    "$$I(X,Y) = \\sum_{x,y} P(x,y) \\cdot log_2\\frac{P(x,y)}{P(x)P(y)}\\\\\n",
    "= H(Y) - H(Y|X)\\\\\n",
    "= H(Y) - (H(X,Y) - H(X))\\\\\n",
    "= H(Y) + H(X) - H(X,Y)\n",
    "$$\n",
    "\n",
    "$$\\big( H(X,Y) = H(X) + H(Y|X) \\text{ (from 4.3.2)} \\big)$$\n",
    "\n",
    "$$I(Y,X)\\\\\n",
    "= H(X) - H(X|Y)\\\\\n",
    "= H(X) - (H(X,Y) - H(Y))\n",
    "= H(X) + H(Y) - H(X,Y)\n",
    "$$\n",
    "\n",
    "$$\\therefore I(X,Y) = I(Y, X) = H(X) + H(Y) - H(X,Y)\\\\ (x_i \\in X, y_i \\in Y)$$\n"
   ]
  },
  {
   "cell_type": "code",
   "execution_count": null,
   "metadata": {},
   "outputs": [],
   "source": []
  }
 ],
 "metadata": {
  "colab": {
   "collapsed_sections": [],
   "name": "hw1-template.ipynb",
   "provenance": [],
   "toc_visible": true,
   "version": "0.3.2"
  },
  "kernelspec": {
   "display_name": "Python 3",
   "language": "python",
   "name": "python3"
  },
  "language_info": {
   "codemirror_mode": {
    "name": "ipython",
    "version": 3
   },
   "file_extension": ".py",
   "mimetype": "text/x-python",
   "name": "python",
   "nbconvert_exporter": "python",
   "pygments_lexer": "ipython3",
   "version": "3.8.5"
  }
 },
 "nbformat": 4,
 "nbformat_minor": 1
}
